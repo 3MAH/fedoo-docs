{
  "cells": [
    {
      "cell_type": "markdown",
      "metadata": {},
      "source": [
        "\n# Compression of a tube using 2D axisymmetric model\n\nThis model uses self-contact, elasto-plastic material law with finite strain\nassumption in a 2D axisymetric modeling space.\nThe full 3D result is ploted during the post processing phase.\n"
      ]
    },
    {
      "cell_type": "code",
      "execution_count": null,
      "metadata": {
        "collapsed": false
      },
      "outputs": [],
      "source": [
        "import fedoo as fd\nimport numpy as np\nimport pyvista as pv\nimport os"
      ]
    },
    {
      "cell_type": "markdown",
      "metadata": {},
      "source": [
        "The tube in the 2D axisymmetric space is modeled by a rectangle.\n\n"
      ]
    },
    {
      "cell_type": "code",
      "execution_count": null,
      "metadata": {
        "collapsed": false
      },
      "outputs": [],
      "source": [
        "fd.ModelingSpace(\"2Daxi\")  # 2D axisymmetric space\nmesh = fd.mesh.rectangle_mesh(5, 240, 23, 25, 0, 180)  # tube geometry"
      ]
    },
    {
      "cell_type": "markdown",
      "metadata": {},
      "source": [
        "The elasto-plastic constitutive law \"EPICP\" from the Simcoon library is used.\nThis law assume an isotropic hardening modeled with a power-law:\n\n\\begin{align}\\sigma = \\sigma_y + k p^m\\end{align}\n\nwhere\n  - $\\sigma$ is the equivalent stress defining the yield surface,\n  - $p$ is the equivalent plastic strain,\n  - $\\sigma_y$ is the initial yield stress,\n  - $k$ is the strain hardening constant,\n  - $m$ is the strain hardening exponent.\n\n"
      ]
    },
    {
      "cell_type": "code",
      "execution_count": null,
      "metadata": {
        "collapsed": false
      },
      "outputs": [],
      "source": [
        "sigma_y = 300  # Yield stress\nk = 1000\nm = 0.3\nE = 200e3  # Elasticity modulus (for steel)\nnu = 0.3  # Poisson ratio\nprops = np.array([E, nu, 1e-5, sigma_y, k, m])\nmaterial = fd.constitutivelaw.Simcoon(\"EPICP\", props)"
      ]
    },
    {
      "cell_type": "markdown",
      "metadata": {},
      "source": [
        "We build two assemblies for:\n  - the mechanical static equilibrium\n  - the self contact\n\n"
      ]
    },
    {
      "cell_type": "code",
      "execution_count": null,
      "metadata": {
        "collapsed": false
      },
      "outputs": [],
      "source": [
        "wf = fd.weakform.StressEquilibrium(material)\nassembly = fd.Assembly.create(wf, mesh)\n\n# Add self contact....\nsurf = fd.mesh.extract_surface(mesh)\ncontact = fd.constraint.contact.SelfContact(surf)\n\n# contact parameters\ncontact.contact_search_once = True\ncontact.eps_n = 1e6  # contact penalty\ncontact.max_dist = 1.5  # max distance for the contact search"
      ]
    },
    {
      "cell_type": "markdown",
      "metadata": {},
      "source": [
        "We define a non linear problem including geometrical non linearities with the\nupdated lagrangian method (NLGEOM = 'UL') which is the default method in\nfedoo (equivalent to NLGEOM = True).\nSome parameters of the newton-raphson algorithm are changed and the output\nfiles to save at each iteration are defined.\n\n"
      ]
    },
    {
      "cell_type": "code",
      "execution_count": null,
      "metadata": {
        "collapsed": false
      },
      "outputs": [],
      "source": [
        "NLGEOM = \"UL\"\npb = fd.problem.NonLinear(assembly + contact, nlgeom=NLGEOM)\npb.set_nr_criterion(\"Displacement\", err0=None, tol=1e-2, max_subiter=5)\n\n# create a 'result' folder and set the desired ouputs\nif not (os.path.isdir(\"results\")):\n    os.mkdir(\"results\")\nres = pb.add_output(\n    \"results/tube_compressoin\", assembly, [\"Disp\", \"Stress\", \"Strain\", \"P\"]\n)\n\n\n# Node sets for boundary conditions\nbottom = mesh.node_sets[\"bottom\"]\ntop = mesh.node_sets[\"top\"]\n\npb.bc.add(\"Dirichlet\", bottom, \"Disp\", 0)\npb.bc.add(\"Dirichlet\", top, \"Disp\", [0, -150])\npb.nlsolve(dt=0.01, tmax=1, update_dt=True, print_info=0)"
      ]
    },
    {
      "cell_type": "markdown",
      "metadata": {},
      "source": [
        "Plot with pyvista:\n- The 2D plot of $\\sigma_{zz}$\n\n"
      ]
    },
    {
      "cell_type": "code",
      "execution_count": null,
      "metadata": {
        "collapsed": false
      },
      "outputs": [],
      "source": [
        "res.plot(\"Stress\", component=\"ZZ\", data_type=\"Node\")"
      ]
    },
    {
      "cell_type": "markdown",
      "metadata": {},
      "source": [
        "- An animated gif of the equivalent plasticity $p$, with 3D\n  reconstruction using the :func:`fedoo.post_processing.axi_to_3d` function.\n\n"
      ]
    },
    {
      "cell_type": "code",
      "execution_count": null,
      "metadata": {
        "collapsed": false
      },
      "outputs": [],
      "source": [
        "clim = res.get_all_frame_lim(\"P\")[2]\npl = pv.Plotter(window_size=[400, 600], off_screen=True)\npl.open_gif(\"tube_compression.gif\", fps=20)\nfor i in range(res.n_iter):\n    res.load(i)\n    pl.clear_actors()\n    fd.post_processing.axi_to_3d(res, 41).plot(\n        \"P\",\n        plotter=pl,\n        clim=clim,\n        title=f\"Iter: {i}\",\n        title_size=10,\n        azimuth=0,\n        elevation=-70,\n        show_scalar_bar=False,\n        show_edges=True,\n    )\n    pl.hide_axes()\n    pl.write_frame()\n\npl.close()\n\n# We can also write a mp4 movie with:\n# data_3d = fd.post_processing.axi_to_3d_multi('full_3d_data', res)\n# data_3d.write_movie('tube_compression', 'Statev', 1)"
      ]
    },
    {
      "cell_type": "markdown",
      "metadata": {},
      "source": [
        "- An example of how to do a realistic plot using the vtk physical based\n  renderic availbale through pyvista. This example generate a mp4 movie\n  and will not been rendered with sphinx-gallery.\n\n"
      ]
    },
    {
      "cell_type": "code",
      "execution_count": null,
      "metadata": {
        "collapsed": false
      },
      "outputs": [],
      "source": [
        "pl = pv.Plotter(window_size=[608, 800], off_screen=True)\ncubemap = pv.examples.download_sky_box_cube_map()\npl.add_actor(cubemap.to_skybox())\npl.set_environment_texture(cubemap)\npl.open_movie(\"tube_compression.mp4\", quality=6)\npl.show(auto_close=False)  # only necessary for an off-screen movie\n\nfor i in range(res.n_iter):\n    res.load(i)\n    fd.post_processing.axi_to_3d(res, 41).plot(\n        show_edges=False,\n        metallic=0.9,\n        pbr=True,\n        roughness=0.4,\n        azimuth=0,\n        elevation=-70,\n        diffuse=0.8,\n        color=\"orange\",\n        # clim=clim,\n        show_scalar_bar=False,\n        plotter=pl,\n        name=\"mymesh\",\n    )\n\n    pl.hide_axes()\n    pl.write_frame()\n    pl.remove_actor(\"mymesh\")\n\npl.close()"
      ]
    }
  ],
  "metadata": {
    "kernelspec": {
      "display_name": "Python 3",
      "language": "python",
      "name": "python3"
    },
    "language_info": {
      "codemirror_mode": {
        "name": "ipython",
        "version": 3
      },
      "file_extension": ".py",
      "mimetype": "text/x-python",
      "name": "python",
      "nbconvert_exporter": "python",
      "pygments_lexer": "ipython3",
      "version": "3.10.18"
    }
  },
  "nbformat": 4,
  "nbformat_minor": 0
}