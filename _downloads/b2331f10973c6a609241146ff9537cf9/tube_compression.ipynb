{
  "cells": [
    {
      "cell_type": "markdown",
      "metadata": {},
      "source": [
        "# Compression of a tube using 2D axisymmetric model\n\nThis model uses self-contact, elasto-plastic material law with finite\nstrain assumption in a 2D axisymetric modeling space. The full 3D result\nis ploted during the post processing phase.\n"
      ]
    },
    {
      "cell_type": "code",
      "execution_count": null,
      "metadata": {
        "collapsed": false
      },
      "outputs": [],
      "source": [
        "# sphinx_gallery_thumbnail_number = 3\nimport fedoo as fd\nimport numpy as np\nimport pyvista as pv\nimport os"
      ]
    },
    {
      "cell_type": "markdown",
      "metadata": {},
      "source": [
        "The tube in the 2D axisymmetric space is modeled by a rectangle.\n"
      ]
    },
    {
      "cell_type": "code",
      "execution_count": null,
      "metadata": {
        "collapsed": false
      },
      "outputs": [],
      "source": [
        "fd.ModelingSpace(\"2Daxi\")  # 2D axisymmetric space\nmesh = fd.mesh.rectangle_mesh(5, 240, 23, 25, 0, 180)  # tube geometry"
      ]
    },
    {
      "cell_type": "markdown",
      "metadata": {},
      "source": [
        "The elasto-plastic constitutive law \\\"EPICP\\\" from the Simcoon library\nis used. This law assume an isotropic hardening modeled with a\npower-law:\n\n$$\\sigma = \\sigma_y + k p^m$$\n\nwhere\n\n:   - $\\sigma$ is the equivalent stress defining the yield surface,\n    - $p$ is the equivalent plastic strain,\n    - $\\sigma_y$ is the initial yield stress,\n    - $k$ is the strain hardening constant,\n    - $m$ is the strain hardening exponent.\n"
      ]
    },
    {
      "cell_type": "code",
      "execution_count": null,
      "metadata": {
        "collapsed": false
      },
      "outputs": [],
      "source": [
        "sigma_y = 300  # Yield stress\nk = 1000\nm = 0.3\nE = 200e3  # Elasticity modulus (for steel)\nnu = 0.3  # Poisson ratio\nprops = np.array([E, nu, 1e-5, sigma_y, k, m])\nmaterial = fd.constitutivelaw.Simcoon(\"EPICP\", props)"
      ]
    },
    {
      "cell_type": "markdown",
      "metadata": {},
      "source": [
        "We build two assemblies for:\n\n:   - the mechanical static equilibrium\n    - the self contact\n"
      ]
    },
    {
      "cell_type": "code",
      "execution_count": null,
      "metadata": {
        "collapsed": false
      },
      "outputs": [],
      "source": [
        "wf = fd.weakform.StressEquilibrium(material)\nassembly = fd.Assembly.create(wf, mesh)\n\n# Add self contact....\nsurf = fd.mesh.extract_surface(mesh)\ncontact = fd.constraint.contact.SelfContact(surf)\n\n# contact parameters\ncontact.contact_search_once = True\ncontact.eps_n = 1e6  # contact penalty\ncontact.max_dist = 1.5  # max distance for the contact search"
      ]
    },
    {
      "cell_type": "markdown",
      "metadata": {},
      "source": [
        "We define a non linear problem including geometrical non linearities\nwith the updated lagrangian method (NLGEOM = \\'UL\\') which is the\ndefault method in fedoo (equivalent to NLGEOM = True). Some parameters\nof the newton-raphson algorithm are changed and the output files to save\nat each iteration are defined.\n"
      ]
    },
    {
      "cell_type": "code",
      "execution_count": null,
      "metadata": {
        "collapsed": false
      },
      "outputs": [],
      "source": [
        "NLGEOM = \"UL\"\npb = fd.problem.NonLinear(assembly + contact, nlgeom=NLGEOM)\npb.set_nr_criterion(\"Displacement\", err0=None, tol=1e-2, max_subiter=5)\n\n# create a 'result' folder and set the desired ouputs\nif not (os.path.isdir(\"results\")):\n    os.mkdir(\"results\")\nres = pb.add_output(\n    \"results/tube_compressoin\", assembly, [\"Disp\", \"Stress\", \"Strain\", \"P\"]\n)\n\n\n# Node sets for boundary conditions\nbottom = mesh.node_sets[\"bottom\"]\ntop = mesh.node_sets[\"top\"]\n\npb.bc.add(\"Dirichlet\", bottom, \"Disp\", 0)\npb.bc.add(\"Dirichlet\", top, \"Disp\", [0, -150])\npb.nlsolve(dt=0.01, tmax=1, update_dt=True, print_info=0)"
      ]
    },
    {
      "cell_type": "markdown",
      "metadata": {},
      "source": [
        "# Plot with pyvista\n\nA simple 3D plot of the $\\sigma_{zz}$ field which coorespond to the\n$\\sigma_{\\theta \\theta}$ component since the axisymmetric model work in\ncylindrical coordinates.\n"
      ]
    },
    {
      "cell_type": "code",
      "execution_count": null,
      "metadata": {
        "collapsed": false
      },
      "outputs": [],
      "source": [
        "res.plot(\"Stress\", component=\"YY\", data_type=\"Node\")"
      ]
    },
    {
      "cell_type": "markdown",
      "metadata": {},
      "source": [
        "Write an animated gif of the equivalent plasticity $p$, with full 3D\nreconstruction using `fedoo.post_processing.axi_to_3d`{.interpreted-text\nrole=\"func\"}.\n\n:::: note\n::: title\nNote\n:::\n\nThe 3D reconstruction convert all fields to node_data. The fields are\nkept in the axisymmetric cylindrical coordinate system except for the\n\\'Disp\\' field (displacement) that is converted to the 3D global\ncoordinate system. For instance, the \\'XX\\' component of \\'Stress\\' is\nthe radial stress whereas the \\'X\\' component of displacement is the\ntrue 3d displacement along x.\n::::\n"
      ]
    },
    {
      "cell_type": "code",
      "execution_count": null,
      "metadata": {
        "collapsed": false
      },
      "outputs": [],
      "source": [
        "clim = res.get_all_frame_lim(\"P\")[2]\npl = pv.Plotter(window_size=[400, 600], off_screen=True)\npl.open_gif(\"tube_compression.gif\", fps=20)\nfor i in range(res.n_iter):\n    res.load(i)\n    pl.clear_actors()\n    fd.post_processing.axi_to_3d(res, 41).plot(\n        \"P\",\n        plotter=pl,\n        clim=clim,\n        title=f\"Iter: {i}\",\n        title_size=10,\n        azimuth=0,\n        elevation=-70,\n        show_scalar_bar=False,\n        show_edges=True,\n    )\n    pl.hide_axes()\n    pl.write_frame()\n\npl.close()\n\n# We can also write a mp4 movie with:\n# data_3d = fd.post_processing.axi_to_3d_multi('full_3d_data', res)\n# data_3d.write_movie('tube_compression', 'P')"
      ]
    },
    {
      "cell_type": "markdown",
      "metadata": {},
      "source": [
        "An example of how to do a realistic plot using the vtk physical based\nrenderic availbale through pyvista.\n"
      ]
    },
    {
      "cell_type": "code",
      "execution_count": null,
      "metadata": {
        "collapsed": false
      },
      "outputs": [],
      "source": [
        "pl = pv.Plotter(window_size=[608, 800])\nres.load(62)\nfd.post_processing.axi_to_3d(res, 41).plot(\n    \"Disp\",\n    \"Z\",\n    show_edges=False,\n    pbr=True,\n    metallic=1,\n    roughness=0.5,\n    diffuse=1.0,\n    azimuth=0,\n    elevation=-70,\n    show_scalar_bar=False,\n    plotter=pl,\n)\npl.show()"
      ]
    },
    {
      "cell_type": "markdown",
      "metadata": {},
      "source": [
        "This example generate a relastic mp4 movie of the 3d deformation of the\ncylinder. It is commented because it is not possible to render the mp4\nmovie with sphinx-gallery.\n"
      ]
    },
    {
      "cell_type": "code",
      "execution_count": null,
      "metadata": {
        "collapsed": false
      },
      "outputs": [],
      "source": [
        "# pl = pv.Plotter(window_size=[608, 800], off_screen=True)\n\n# cubemap = pv.examples.download_sky_box_cube_map()\n# pl.add_actor(cubemap.to_skybox())\n# pl.set_environment_texture(cubemap)\n# pl.open_movie(\"tube_compression.mp4\", quality=6)\n\n# for i in range(res.n_iter):\n#     res.load(i)\n#     fd.post_processing.axi_to_3d(res, 41).plot(\n#         show_edges=False,\n#         pbr=True,\n#         metallic=0.9,\n#         roughness=0.4,\n#         diffuse=0.8,\n#         azimuth=0,\n#         elevation=-70,\n#         color=\"orange\",\n#         # clim=clim,\n#         show_scalar_bar=False,\n#         plotter=pl,\n#         name=\"mymesh\",\n#     )\n\n#     pl.hide_axes()\n#     pl.write_frame()\n#     pl.remove_actor(\"mymesh\")\n\n# pl.close()"
      ]
    }
  ],
  "metadata": {
    "kernelspec": {
      "display_name": "Python 3",
      "language": "python",
      "name": "python3"
    },
    "language_info": {
      "codemirror_mode": {
        "name": "ipython",
        "version": 3
      },
      "file_extension": ".py",
      "mimetype": "text/x-python",
      "name": "python",
      "nbconvert_exporter": "python",
      "pygments_lexer": "ipython3",
      "version": "3.10.18"
    }
  },
  "nbformat": 4,
  "nbformat_minor": 0
}