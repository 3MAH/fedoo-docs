{
  "cells": [
    {
      "cell_type": "markdown",
      "metadata": {},
      "source": [
        "\n# Canteleaver Beam using 3D hexahedral elements\n"
      ]
    },
    {
      "cell_type": "code",
      "execution_count": null,
      "metadata": {
        "collapsed": false
      },
      "outputs": [],
      "source": [
        "import fedoo as fd"
      ]
    },
    {
      "cell_type": "markdown",
      "metadata": {},
      "source": [
        "Pre-treatment: Mesh and problem definition\n\n"
      ]
    },
    {
      "cell_type": "code",
      "execution_count": null,
      "metadata": {
        "collapsed": false
      },
      "outputs": [],
      "source": [
        "# Units: N, mm, MPa\nmesh = fd.mesh.box_mesh(\n    nx=51,\n    ny=7,\n    nz=7,\n    x_min=0,\n    x_max=1000,\n    y_min=0,\n    y_max=100,\n    z_min=0,\n    z_max=100,\n    elm_type=\"hex8\",\n    name=\"Domain\",\n)\n\nfd.ModelingSpace(\"3D\")\n\n# Material definition\nfd.constitutivelaw.ElasticIsotrop(200e3, 0.3, name=\"ElasticLaw\")\nwf = fd.weakform.StressEquilibrium(\"ElasticLaw\")\n\n# Assembly\nassembly = fd.Assembly.create(wf, mesh, \"hex8\")\n\n# Type of problem\npb = fd.problem.Linear(assembly)\n\n# Boundary conditions\nnodes_left = mesh.node_sets[\"left\"]\nnodes_right = mesh.node_sets[\"right\"]\nnodes_top = mesh.node_sets[\"top\"]\nnodes_bottom = mesh.node_sets[\"bottom\"]\n\npb.bc.add(\"Dirichlet\", nodes_left, \"Disp\", 0)\npb.bc.add(\"Dirichlet\", nodes_right, \"DispY\", -50)"
      ]
    },
    {
      "cell_type": "markdown",
      "metadata": {},
      "source": [
        "Solver: use conjugate gradient method\n\n"
      ]
    },
    {
      "cell_type": "code",
      "execution_count": null,
      "metadata": {
        "collapsed": false
      },
      "outputs": [],
      "source": [
        "# pb.set_solver('cg') #uncomment for conjugate gradient solver\npb.solve()"
      ]
    },
    {
      "cell_type": "markdown",
      "metadata": {},
      "source": [
        "Post-treatment: Get and plot results\n\n"
      ]
    },
    {
      "cell_type": "code",
      "execution_count": null,
      "metadata": {
        "collapsed": false
      },
      "outputs": [],
      "source": [
        "# Get the displacement vector\nU = pb.get_disp()\n\n# Get the stress and strain tensor at nodes\nres = pb.get_results(assembly, [\"Stress\", \"Strain\", \"Disp\"], \"Node\")\nstress = res[\"Stress\"]\nstrain = res[\"Strain\"]\n\n# plot the stress (xx component)\nres.plot(\"Stress\", \"XX\")"
      ]
    }
  ],
  "metadata": {
    "kernelspec": {
      "display_name": "Python 3",
      "language": "python",
      "name": "python3"
    },
    "language_info": {
      "codemirror_mode": {
        "name": "ipython",
        "version": 3
      },
      "file_extension": ".py",
      "mimetype": "text/x-python",
      "name": "python",
      "nbconvert_exporter": "python",
      "pygments_lexer": "ipython3",
      "version": "3.10.18"
    }
  },
  "nbformat": 4,
  "nbformat_minor": 0
}