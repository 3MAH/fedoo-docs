{
  "cells": [
    {
      "cell_type": "markdown",
      "metadata": {},
      "source": [
        "# Beam Lattice Structure using beam model with geometric nonlinearities\n"
      ]
    },
    {
      "cell_type": "code",
      "execution_count": null,
      "metadata": {
        "collapsed": false
      },
      "outputs": [],
      "source": [
        "import fedoo as fd\nimport numpy as np\n\nE = 1e5\nnu = 0.3\nradius = 1\nk = 0.9  # reduce section. k=0 to neglect the shear effect\nn = 6  # n_nodes\nndim = 3\nif ndim == 2:\n    fd.ModelingSpace(\"2D\")\nelse:\n    fd.ModelingSpace(\"3D\")\n\nmaterial = fd.constitutivelaw.ElasticIsotrop(E, nu)\nbeam_props = fd.constitutivelaw.BeamCircular(material, radius, k=k)\n\n# Extract a Lattice Mesh from a 3D mesh\nif ndim == 2:\n    mesh = fd.mesh.extract_edges(\n        fd.mesh.rectangle_mesh(n, n, x_max=100, y_max=100, ndim=ndim)\n    )\nelse:\n    mesh = fd.mesh.extract_edges(\n        fd.mesh.box_mesh(n, n, n, x_max=100, y_max=100, z_max=100)\n    )\n\nnodes_left = mesh.find_nodes(\"X\", mesh.bounding_box.xmin)\nnodes_right = mesh.find_nodes(\"X\", mesh.bounding_box.xmax)\n\nwf = fd.weakform.BeamEquilibrium(beam_props)\n\nassembly = fd.Assembly.create(wf, mesh)\n\npb = fd.problem.NonLinear(assembly, nlgeom=True)\nresults = pb.add_output(\"test\", assembly, [\"Disp\", \"Rot\", \"BeamStress\", \"BeamStrain\"])\n\npb.bc.add(\"Dirichlet\", nodes_left, [\"Disp\", \"Rot\"], 0)\npb.bc.add(\"Dirichlet\", nodes_right, \"DispY\", -50)\n\npb.nlsolve(dt=0.02, update_dt=True, print_info=1)\n\n# Post treatment\nresults = pb.get_results(assembly, [\"Disp\", \"Rot\", \"BeamStress\"])\nresults.plot(\"BeamStress\", 0)"
      ]
    }
  ],
  "metadata": {
    "kernelspec": {
      "display_name": "Python 3",
      "language": "python",
      "name": "python3"
    },
    "language_info": {
      "codemirror_mode": {
        "name": "ipython",
        "version": 3
      },
      "file_extension": ".py",
      "mimetype": "text/x-python",
      "name": "python",
      "nbconvert_exporter": "python",
      "pygments_lexer": "ipython3",
      "version": "3.10.18"
    }
  },
  "nbformat": 4,
  "nbformat_minor": 0
}