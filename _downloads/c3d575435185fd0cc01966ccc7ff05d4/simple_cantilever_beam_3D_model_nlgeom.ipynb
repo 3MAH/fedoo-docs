{
  "cells": [
    {
      "cell_type": "markdown",
      "metadata": {},
      "source": [
        "# 3D Canteleaver Beam with geometric nonlinearities\n"
      ]
    },
    {
      "cell_type": "code",
      "execution_count": null,
      "metadata": {
        "collapsed": false
      },
      "outputs": [],
      "source": [
        "import fedoo as fd\nimport numpy as np\nimport time\n\n# --------------- Pre-Treatment --------------------------------------------------------\n\nfd.ModelingSpace(\"3D\")\n\n# Units: N, mm, MPa\nmesh = fd.mesh.box_mesh(\n    nx=31,\n    ny=7,\n    nz=7,\n    x_min=0,\n    x_max=1000,\n    y_min=0,\n    y_max=100,\n    z_min=0,\n    z_max=100,\n    elm_type=\"hex8\",\n    name=\"Domain\",\n)\n\n# Material definition\nfd.constitutivelaw.ElasticIsotrop(200e3, 0.3, name=\"ElasticLaw\")\nwf = fd.weakform.StressEquilibrium(\"ElasticLaw\", nlgeom=True)\n\n# Assembly (print the time required for assembling)\nassemb = fd.Assembly.create(wf, mesh, \"hex8\", name=\"Assembling\")\n\n# Type of problem\npb = fd.problem.NonLinear(\"Assembling\")\n\n# Boundary conditions\nnodes_left = mesh.find_nodes(\"X\", mesh.bounding_box.xmin)\nnodes_load = mesh.find_nodes(\n    f\"X=={mesh.bounding_box.xmax} and Y=={mesh.bounding_box.ymax}\"\n)\n\npb.bc.add(\"Dirichlet\", nodes_left, \"Disp\", 0)\npb.bc.add(\"Dirichlet\", nodes_load, \"DispY\", -500)\n\n# --------------- Solve --------------------------------------------------------\npb.nlsolve(dt=0.2)\n\n# #--------------- Post-Treatment -----------------------------------------------\nres = pb.get_results(\"Assembling\", [\"Stress\", \"Disp\"])\nres.plot(\"Stress\", \"XX\", \"Node\", show_edges=False)"
      ]
    }
  ],
  "metadata": {
    "kernelspec": {
      "display_name": "Python 3",
      "language": "python",
      "name": "python3"
    },
    "language_info": {
      "codemirror_mode": {
        "name": "ipython",
        "version": 3
      },
      "file_extension": ".py",
      "mimetype": "text/x-python",
      "name": "python",
      "nbconvert_exporter": "python",
      "pygments_lexer": "ipython3",
      "version": "3.10.18"
    }
  },
  "nbformat": 4,
  "nbformat_minor": 0
}