{
  "cells": [
    {
      "cell_type": "markdown",
      "metadata": {},
      "source": [
        "# Compression of a ping pong ball\n\nExample that show how to use plate elements with a pressure load.\n"
      ]
    },
    {
      "cell_type": "code",
      "execution_count": null,
      "metadata": {
        "collapsed": false
      },
      "outputs": [],
      "source": [
        "import fedoo as fd\nimport pyvista as pv\nimport numpy as np"
      ]
    },
    {
      "cell_type": "markdown",
      "metadata": {},
      "source": [
        "The problems parameters\n"
      ]
    },
    {
      "cell_type": "code",
      "execution_count": null,
      "metadata": {
        "collapsed": false
      },
      "outputs": [],
      "source": [
        "E = 2e3  # MPa\nnu = 0.37\nradius = 20  # mm\nthickness = 0.45  # mm\npressure = 10  # MPa"
      ]
    },
    {
      "cell_type": "markdown",
      "metadata": {},
      "source": [
        "Create a simple sphere mesh using pyvista.\n"
      ]
    },
    {
      "cell_type": "code",
      "execution_count": null,
      "metadata": {
        "collapsed": false
      },
      "outputs": [],
      "source": [
        "mesh = fd.Mesh.from_pyvista(pv.Sphere(radius))"
      ]
    },
    {
      "cell_type": "markdown",
      "metadata": {},
      "source": [
        "Define a linear isotropic material and an homogeneous shell section\n"
      ]
    },
    {
      "cell_type": "code",
      "execution_count": null,
      "metadata": {
        "collapsed": false
      },
      "outputs": [],
      "source": [
        "material = fd.constitutivelaw.ElasticIsotrop(E, nu, name=\"Material\")\nshell_section = fd.constitutivelaw.ShellHomogeneous(\"Material\", thickness)"
      ]
    },
    {
      "cell_type": "markdown",
      "metadata": {},
      "source": [
        "Define the weakform and associated assembly for plate model For plate\nelements, we first need to create a 3D modeling space\n"
      ]
    },
    {
      "cell_type": "code",
      "execution_count": null,
      "metadata": {
        "collapsed": false
      },
      "outputs": [],
      "source": [
        "fd.ModelingSpace(\"3D\")\nwf = fd.weakform.PlateEquilibrium(shell_section)\nsolid_assembly = fd.Assembly.create(wf, mesh)"
      ]
    },
    {
      "cell_type": "markdown",
      "metadata": {},
      "source": [
        "Select mesh elements where we will apply the pressure. The\nmesh.find_elements method is used with an arbitrary exression. Here we\nselect all elements whose z coordinates are less that 3mm from minimal\nor maximal z value (sphere extremity along the z axis.\n"
      ]
    },
    {
      "cell_type": "code",
      "execution_count": null,
      "metadata": {
        "collapsed": false
      },
      "outputs": [],
      "source": [
        "boundaries = mesh.find_elements(\n    f\"Z>{mesh.bounding_box.zmax-3} or Z<{mesh.bounding_box.zmin+3}\"\n)"
      ]
    },
    {
      "cell_type": "markdown",
      "metadata": {},
      "source": [
        "Now we build the pressure assembly by extracting the surface mesh. The\npressure assembly is then added to the solid_assembly to form the global\nassembly.\n"
      ]
    },
    {
      "cell_type": "code",
      "execution_count": null,
      "metadata": {
        "collapsed": false
      },
      "outputs": [],
      "source": [
        "pressure_assembly = fd.constraint.Pressure(\n    mesh.extract_elements(boundaries),\n    pressure,\n)\nassembly = solid_assembly + pressure_assembly"
      ]
    },
    {
      "cell_type": "markdown",
      "metadata": {},
      "source": [
        "Define a linear analysis and solve the problem.\n\n:::: note\n::: title\nNote\n:::\n\nHere we don\\'t need to add other boundary conditions. The rigid body\ndisplacements and rotations of the sphere aren\\'t constrained but the\nsolver find a solution that is unique in terms of strain and stress (but\nnot for displacements or rotations)\n::::\n"
      ]
    },
    {
      "cell_type": "code",
      "execution_count": null,
      "metadata": {
        "collapsed": false
      },
      "outputs": [],
      "source": [
        "pb = fd.problem.Linear(assembly)\npb.solve()"
      ]
    },
    {
      "cell_type": "markdown",
      "metadata": {},
      "source": [
        "Extract the results: position = 1 is set for the surface along the\npositif direction of the normal vector (0 is the mean plane). The\nstrains and stresses components are defined in the element local\ncoordinate system (mesh.get_element_local_frame()).\n"
      ]
    },
    {
      "cell_type": "code",
      "execution_count": null,
      "metadata": {
        "collapsed": false
      },
      "outputs": [],
      "source": [
        "res = pb.get_results(solid_assembly, [\"Disp\", \"Rot\", \"Stress\", \"Strain\"], position=1)\npl = pv.Plotter()\nres.plot(\"Stress\", component=\"XX\", data_type=\"Node\", plotter=pl)\npl.view_isometric()\npl.show()"
      ]
    }
  ],
  "metadata": {
    "kernelspec": {
      "display_name": "Python 3",
      "language": "python",
      "name": "python3"
    },
    "language_info": {
      "codemirror_mode": {
        "name": "ipython",
        "version": 3
      },
      "file_extension": ".py",
      "mimetype": "text/x-python",
      "name": "python",
      "nbconvert_exporter": "python",
      "pygments_lexer": "ipython3",
      "version": "3.10.18"
    }
  },
  "nbformat": 4,
  "nbformat_minor": 0
}