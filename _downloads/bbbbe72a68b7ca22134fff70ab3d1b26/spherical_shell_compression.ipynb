{
  "cells": [
    {
      "cell_type": "markdown",
      "metadata": {},
      "source": [
        "\n# Compression of a ping pong ball\n\nExample that show how to use plate elements with a pressure load.\n"
      ]
    },
    {
      "cell_type": "code",
      "execution_count": null,
      "metadata": {
        "collapsed": false
      },
      "outputs": [],
      "source": [
        "import fedoo as fd\nimport pyvista as pv\nimport numpy as np\n\n# The problems parameters\nE = 2e3  # MPa\nnu = 0.37\nradius = 20  # mm\nthickness = 0.45  # mm\npressure = 10 # MPa\n\n# For plate elements, we define a 3D modeling space\nfd.ModelingSpace(\"3D\")\n\n# Load a simple mesh for a sphere using pyvista.\nmesh = fd.Mesh.from_pyvista(pv.Sphere(radius))\n\n# Define a linear isotropic material and an homogeneous shell section\nmaterial = fd.constitutivelaw.ElasticIsotrop(E, nu, name=\"Material\")\nshell_section = fd.constitutivelaw.ShellHomogeneous(\"Material\", thickness)\n\n# Define the weakform and associated assembly for plate model\nwf = fd.weakform.PlateEquilibrium(shell_section)\nsolid_assembly = fd.Assembly.create(wf, mesh)\n\n# Select mesh elements where we will apply the pressure.\n# The mesh.find_elements method is used with an arbitrary exression.\n# Here we select all elements whose z coordinates are less that 3mm from\n# minimal or maximal z value (sphere extremity along the z axis.\nboundaries = mesh.find_elements(\n    f'Z>{mesh.bounding_box.zmax-3} or Z<{mesh.bounding_box.zmin+3}'\n)\n\n# Now we build the pressure assembly by extracted the surface mesh.\n# The pressure assembly is added to the global assembly\npressure_assembly = fd.constraint.Pressure(\n    mesh.extract_elements(boundaries),\n    pressure,\n)\nassembly = solid_assembly + pressure_assembly\n\n# Define a linear analysis and solve the problem/\n# Remark: here we don't need to add other boundary conditions. The rigid body\n# displacements and rotations of the sphere hasn't been constrained but the\n# solver find a solution that is unique in terms of strain and stress (but not\n# for displacements or rotations)\npb = fd.problem.Linear(assembly)\npb.solve()\n\n# Extract the results:\n# position = 1 is set for the surface along the positif direction of the\n# normal vector (0 is the mean plane). The strains and stresses components are\n# defined in the element local coordinate system\n# (mesh.get_element_local_frame()).\nres = pb.get_results(\n    solid_assembly, [\"Disp\", \"Rot\", \"Stress\", \"Strain\"], position=1\n)\npl = pv.Plotter()\nres.plot(\"Stress\", component=\"XX\", data_type=\"Node\", plotter=pl)\npl.view_isometric()\npl.show()"
      ]
    }
  ],
  "metadata": {
    "kernelspec": {
      "display_name": "Python 3",
      "language": "python",
      "name": "python3"
    },
    "language_info": {
      "codemirror_mode": {
        "name": "ipython",
        "version": 3
      },
      "file_extension": ".py",
      "mimetype": "text/x-python",
      "name": "python",
      "nbconvert_exporter": "python",
      "pygments_lexer": "ipython3",
      "version": "3.10.18"
    }
  },
  "nbformat": 4,
  "nbformat_minor": 0
}