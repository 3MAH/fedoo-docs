{
  "cells": [
    {
      "cell_type": "markdown",
      "metadata": {},
      "source": [
        "# Off-axis tensile test on a Gyroid unit cell with periodic boundary condition\n\nThe periodic mesh of the Gyriod has been generated with microgen. This\nexample show how to define periodic boundary conditions and to load the\nstructure with prescribed strain in local coordinate system. After that,\nthe mean stress and mean strain results are extracted in local and\nglobal coordinate system.\n"
      ]
    },
    {
      "cell_type": "code",
      "execution_count": null,
      "metadata": {
        "collapsed": false
      },
      "outputs": [],
      "source": [
        "import fedoo as fd\nimport numpy as np\nfrom scipy.spatial.transform import Rotation\n\n# --------------- Pre-Treatment -----------------------------------------------\n\nfd.ModelingSpace(\"3D\")\nmesh = fd.Mesh.read(\"../../util/meshes/gyroid_per.vtk\")\n# mesh = fd.mesh.box_mesh(2,2,2)\nassert mesh.is_periodic(tol=1e-3)\n\n# Material definition\nmaterial = fd.constitutivelaw.ElasticIsotrop(1e5, 0.3)\nwf = fd.weakform.StressEquilibrium(material)\n\n# Assembly\nassembly = fd.Assembly.create(wf, mesh)\n\n# Define linear problem\npb = fd.problem.Linear(assembly)\n\n\n# Boundary conditions\n\n# periodic constraint in local frame\nlocal_frame = Rotation.from_rotvec([0, 0, np.pi / 4])\nbc_periodic = fd.constraint.PeriodicBC(\n    \"small_strain\", off_axis_rotation=local_frame, tol=1e-3\n)\npb.bc.add(bc_periodic)\n\n# block a node near the center to avoid rigid body motion\npb.bc.add(\"Dirichlet\", mesh.nearest_node(mesh.bounding_box.center), \"Disp\", 0)\n\n# off axis traction along the local x axis = '1'\npb.bc.add(\"Dirichlet\", \"E_11\", 1)\n\n# Warning: the global strain are eliminated from the problem and are no more\n# applicable for BC. For instance: pb.bc.add(\"Dirichlet\", \"E_xx\", 1) will have\n# no effect.\n\n\n# --------------- Solve -----------------------------------------------------\npb.solve()"
      ]
    },
    {
      "cell_type": "markdown",
      "metadata": {},
      "source": [
        "print the macroscopic strain tensor and stress tensor\n"
      ]
    },
    {
      "cell_type": "code",
      "execution_count": null,
      "metadata": {
        "collapsed": false
      },
      "outputs": [],
      "source": [
        "res = pb.get_results(\n    assembly,\n    [\n        \"LocalMeanStrain\",\n        \"MeanStrain\",\n        \"Stress\",\n        \"Disp\",\n        \"Fext(MeanStrain)\",  # dual variable associated to strain is: stress * volume\n        \"Fext(LocalMeanStrain)\",\n    ],\n)\nres.plot(\"Stress\", \"XX\")\n\nnp.set_printoptions(3)\n\nmean_strain = res[\"LocalMeanStrain\"].ravel()\n# or pb.get_dof_solution(\"LocalMeanStrain\")\nprint(\n    \"Strain tensor in local frame:\\n\",\n    np.array(\n        [\n            [mean_strain[0], mean_strain[3], mean_strain[4]],\n            [mean_strain[3], mean_strain[1], mean_strain[5]],\n            [mean_strain[4], mean_strain[5], mean_strain[2]],\n        ]\n    ),\n    \" \\n\\n\",\n)\n\nmean_strain = res[\"MeanStrain\"].ravel()\n# or pb.get_dof_solution(\"MeanStrain\")\nprint(\n    \"Strain tensor in global frame:\\n\",\n    np.array(\n        [\n            [mean_strain[0], mean_strain[3], mean_strain[4]],\n            [mean_strain[3], mean_strain[1], mean_strain[5]],\n            [mean_strain[4], mean_strain[5], mean_strain[2]],\n        ]\n    ),\n    \" \\n\\n\",\n)\n\nvolume = mesh.bounding_box.volume  # total surface of the domain = volume in 2d\nmean_stress = res[\"Fext(LocalMeanStrain)\"].ravel() / volume\n# or mean_stress = pb.get_ext_forces(\"LocalMeanStrain\").ravel() / volume\nprint(\n    \"Stress tensor in local frame:\\n\",\n    np.array(\n        [\n            [mean_stress[0], mean_stress[3], mean_stress[4]],\n            [mean_stress[3], mean_stress[1], mean_stress[5]],\n            [mean_stress[4], mean_stress[5], mean_stress[2]],\n        ]\n    ),\n    \" \\n\\n\",\n)\n\nmean_stress = res[\"Fext(MeanStrain)\"].ravel() / volume\n# or mean_stress = pb.get_ext_forces(\"MeanStrain\").ravel() / volume\nprint(\n    \"Stress tensor in global frame:\\n\",\n    np.array(\n        [\n            [mean_stress[0], mean_stress[3], mean_stress[4]],\n            [mean_stress[3], mean_stress[1], mean_stress[5]],\n            [mean_stress[4], mean_stress[5], mean_stress[2]],\n        ]\n    ),\n    \" \\n\\n\",\n)\n\n# Compute the mean stress tensor by integration over the domain\n# The difference with the previous method is due to numerical errors\nmean_stress = [1 / volume * mesh.integrate_field(res[\"Stress\"][i]) for i in range(6)]\nprint(\n    \"Stress tensor using integration:\\n\",\n    np.array(\n        [\n            [mean_stress[0], mean_stress[3], mean_stress[4]],\n            [mean_stress[3], mean_stress[1], mean_stress[5]],\n            [mean_stress[4], mean_stress[5], mean_stress[2]],\n        ]\n    ),\n    \" \\n\\n\",\n)"
      ]
    }
  ],
  "metadata": {
    "kernelspec": {
      "display_name": "Python 3",
      "language": "python",
      "name": "python3"
    },
    "language_info": {
      "codemirror_mode": {
        "name": "ipython",
        "version": 3
      },
      "file_extension": ".py",
      "mimetype": "text/x-python",
      "name": "python",
      "nbconvert_exporter": "python",
      "pygments_lexer": "ipython3",
      "version": "3.10.18"
    }
  },
  "nbformat": 4,
  "nbformat_minor": 0
}