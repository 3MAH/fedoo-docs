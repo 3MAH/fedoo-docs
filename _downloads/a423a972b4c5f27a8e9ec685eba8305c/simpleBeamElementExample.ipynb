{
  "cells": [
    {
      "cell_type": "markdown",
      "metadata": {},
      "source": [
        "# Beam Element Canteleaver Beam\n\nSimple canteleaver beam example using different kind of elements\n"
      ]
    },
    {
      "cell_type": "code",
      "execution_count": null,
      "metadata": {
        "collapsed": false
      },
      "outputs": [],
      "source": [
        "import fedoo as fd\nimport numpy as np\n\nE = 1e5\nnu = 0.3\n\nfd.ModelingSpace(\"3D\")\nfd.constitutivelaw.ElasticIsotrop(E, nu, name=\"ElasticLaw\")\n\n# circular section\nR = 1\nSection = np.pi * R**2\nJx = np.pi * R**4 / 2\nIyy = np.pi * R**4 / 4\nIzz = np.pi * R**4 / 4\nk = 0.8  # reduce section for shear (k=0 -> no shear effect)\n\nL = 10  # beam lenght\nF = -2  # Force applied on right section\n\n# Build a straight beam mesh\nNb_elm = 10  # Number of elements\ncrd = np.linspace(0, L, Nb_elm + 1).reshape(-1, 1) * np.array([[1, 0, 0]])\n# crd = np.linspace(0,L,Nb_elm+1).reshape(-1,1)* np.array([[0,0,1]]) #beam oriented in the Z axis\nelm = np.c_[np.arange(0, Nb_elm), np.arange(1, Nb_elm + 1)]\n\nfd.Mesh(crd, elm, \"lin2\", name=\"beam\")\nnodes_left = [0]\nnodes_right = [Nb_elm]\n\n# computeShear = 0: no shear strain are considered. Bernoulli element is used (\"i.e \"bernoulliBeam\" element)\n# computeShear = 1: shear strain using the \"beam\" element (shape functions depend on the beam parameter) ->  Friedman, Z. and Kosmatka, J. B. (1993).  An improved two-node Timoshenkobeam finite element.Computers & Structures, 47(3):473\u2013481\n# computeShear = 2: shear strain using the \"beamFCQ\" element (using internal variables) -> Caillerie, D., Kotronis, P., and Cybulski, R. (2015). A new Timoshenko finite element beamwith internal degrees of freedom.International Journal of Numerical and Analytical Methods in Geomechanics\ncomputeShear = 1\n\nif computeShear == 0:\n    fd.weakform.BeamEquilibrium(\n        \"ElasticLaw\", Section, Jx, Iyy, Izz, name=\"WFbeam\"\n    )  # by default k=0 i.e. no shear effect\n    fd.Assembly.create(\"WFbeam\", \"beam\", \"bernoulliBeam\", name=\"beam\")\nelif computeShear == 1:\n    fd.weakform.BeamEquilibrium(\"ElasticLaw\", Section, Jx, Iyy, Izz, k=k, name=\"WFbeam\")\n    fd.Assembly.create(\"WFbeam\", \"beam\", \"beam\", name=\"beam\")\nelse:  # computeShear = 2\n    fd.Mesh[\"beam\"].add_internal_nodes(\n        1\n    )  # adding one internal nodes per element (this node has no geometrical sense)\n    fd.weakform.Beam(\"ElasticLaw\", Section, Jx, Iyy, Izz, k=k, name=\"WFbeam\")\n    fd.Assembly.create(\"WFbeam\", \"beam\", \"beamFCQ\", name=\"beam\")\n\npb = fd.problem.Linear(\"beam\")\n\npb.bc.add(\"Dirichlet\", nodes_left, [\"Disp\", \"Rot\"], 0)\npb.bc.add(\"Neumann\", nodes_right, \"DispY\", F)\n\npb.solve()\n\n# Post treatment\nresults = pb.get_results(fd.Assembly[\"beam\"], [\"Fext\"])[\"Fext\"]\n\nprint(\"Reaction RX at the clamped extermity: \" + str(results[0][0]))\nprint(\"Reaction RY at the clamped extermity: \" + str(results[1][0]))\nprint(\"Reaction RZ at the clamped extermity: \" + str(results[2][0]))\nprint(\"Moment MX at the clamped extermity: \" + str(results[3][0]))\nprint(\"Moment MY at the clamped extermity: \" + str(results[4][0]))\nprint(\"Moment MZ at the clamped extermity: \" + str(results[5][0]))\n\nprint(\"RX at the free extremity: \" + str(results[0][nodes_right[0]]))\nprint(\"RZ at the free extremity: \" + str(results[2][nodes_right[0]]))\n\nresults = pb.get_results(\"beam\", \"BeamStress\")[\"BeamStress\"]\nIntMoment = np.array(results[3:])\nIntForce = np.array(results[:3])\n\nU = np.reshape(pb.get_dof_solution(\"all\"), (6, -1)).T\nTheta = U[: nodes_right[0] + 1, 3:]\nU = U[: nodes_right[0] + 1, 0:3]\n\nsol = F * L**3 / (3 * E * Izz)\nif computeShear != 0 and k != 0:\n    G = E / (1 + nu) / 2\n    sol += F * L / (k * G * Section)\nprint(\"Analytical deflection: \", sol)\nprint(U[-1])\n\nM = fd.Assembly[\"beam\"].global_matrix.todense()"
      ]
    }
  ],
  "metadata": {
    "kernelspec": {
      "display_name": "Python 3",
      "language": "python",
      "name": "python3"
    },
    "language_info": {
      "codemirror_mode": {
        "name": "ipython",
        "version": 3
      },
      "file_extension": ".py",
      "mimetype": "text/x-python",
      "name": "python",
      "nbconvert_exporter": "python",
      "pygments_lexer": "ipython3",
      "version": "3.10.18"
    }
  },
  "nbformat": 4,
  "nbformat_minor": 0
}