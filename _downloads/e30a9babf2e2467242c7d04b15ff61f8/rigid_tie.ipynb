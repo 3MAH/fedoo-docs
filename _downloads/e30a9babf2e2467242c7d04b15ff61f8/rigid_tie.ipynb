{
  "cells": [
    {
      "cell_type": "markdown",
      "metadata": {},
      "source": [
        "\n# Rigid tie constraint\nExample of a 2D rigid tie.\nThe bottom face of a square is clamped. A rigid body\nrotation is imposed on the top face.\n"
      ]
    },
    {
      "cell_type": "code",
      "execution_count": null,
      "metadata": {
        "collapsed": false
      },
      "outputs": [],
      "source": [
        "import fedoo as fd\nimport numpy as np\n\nfd.ModelingSpace(\"2D\")  # plane strain assumption\n\nNLGEOM = True\nE = 200e3\nnu = 0.3\n\nmesh = fd.mesh.rectangle_mesh()\nmaterial = fd.constitutivelaw.ElasticIsotrop(E, nu, name=\"ConstitutiveLaw\")\n\nwf = fd.weakform.StressEquilibrium(material, nlgeom=NLGEOM, name=\"wf\")\n\nassembly = fd.Assembly.create(\"wf\", mesh)\n\n# node set for boundary conditions\nbottom = mesh.find_nodes(\"Y\", mesh.bounding_box.ymin)\ntop = mesh.find_nodes(\"Y\", mesh.bounding_box.ymax)\n\n# add CD nodes\nref_node = mesh.add_virtual_nodes(2)  # reference node for rigid body motion\nnode_cd = [ref_node[0], ref_node[0], ref_node[1]]\nvar_cd = [\"DispX\", \"DispY\", \"DispX\"]\n\npb = fd.problem.NonLinear(assembly)\npb.set_nr_criterion(\"Displacement\", err0=1, tol=1e-2, max_subiter=5)\n\nresults = pb.add_output(\n    \"rigid_tie_example\", assembly, [\"Disp\", \"Stress\", \"Strain\", \"Fext\"]\n)\n\npb.bc.add(fd.constraint.RigidTie2D(top, node_cd, var_cd))\n\npb.bc.add(\"Dirichlet\", bottom, \"Disp\", 0)\npb.bc.add(\"Dirichlet\", ref_node[1], \"DispY\", 0)  # to block the non used virtual dof\npb.bc.add(\n    \"Dirichlet\", ref_node[1], \"DispX\", -np.pi / 4\n)  # Rigid rotation of the right end\n\npb.nlsolve(dt=0.2, tmax=1, update_dt=True, print_info=1, interval_output=0.2)\n\n# =============================================================\n# Example of plots with pyvista - uncomment the desired plot\n# =============================================================\n\n# ------------------------------------\n# Simple plot with default options\n# ------------------------------------\nresults.plot(\"Stress\", component=\"YY\", data_type=\"Node\", show=True)\n\n# ------------------------------------\n# Write movie with default options\n# ------------------------------------\n# results.write_movie('rigid_tie_example', 'Stress', 'vm', 'Node', framerate = 12, quality = 5)"
      ]
    }
  ],
  "metadata": {
    "kernelspec": {
      "display_name": "Python 3",
      "language": "python",
      "name": "python3"
    },
    "language_info": {
      "codemirror_mode": {
        "name": "ipython",
        "version": 3
      },
      "file_extension": ".py",
      "mimetype": "text/x-python",
      "name": "python",
      "nbconvert_exporter": "python",
      "pygments_lexer": "ipython3",
      "version": "3.10.18"
    }
  },
  "nbformat": 4,
  "nbformat_minor": 0
}