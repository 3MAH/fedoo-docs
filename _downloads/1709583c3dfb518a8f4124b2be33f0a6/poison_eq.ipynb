{
  "cells": [
    {
      "cell_type": "markdown",
      "metadata": {},
      "source": [
        "\n# Define and solve user equation\nBasic example that show how to define the poisson equation and\nhow to solve it with Dirichlet boundary conditions.\n"
      ]
    },
    {
      "cell_type": "code",
      "execution_count": null,
      "metadata": {
        "collapsed": false
      },
      "outputs": [],
      "source": [
        "import fedoo as fd"
      ]
    },
    {
      "cell_type": "markdown",
      "metadata": {},
      "source": [
        "Define a modeling space and add a variable \"U\" to this space\nA \"2D\" problem include by default the coordinates \"X\" and \"Y\".\n\n"
      ]
    },
    {
      "cell_type": "code",
      "execution_count": null,
      "metadata": {
        "collapsed": false
      },
      "outputs": [],
      "source": [
        "space = fd.ModelingSpace(\"2D\")\nU = space.new_variable(\"U\")"
      ]
    },
    {
      "cell_type": "markdown",
      "metadata": {},
      "source": [
        "# Set the equation to solve on a weak form.\nThe space.derivative or space.variable functions create a differatial equation that we\ncan combine with the +, - and * operators to build the weak form.\nthe virtual properties set the variable as virtuals\n(in the sense of weak equations)\n\n"
      ]
    },
    {
      "cell_type": "code",
      "execution_count": null,
      "metadata": {
        "collapsed": false
      },
      "outputs": [],
      "source": [
        "dU_dX = space.derivative(\"U\", \"X\")\ndU_dY = space.derivative(\"U\", \"Y\")\n\nwf = fd.WeakForm(dU_dX.virtual * dU_dX + dU_dY.virtual * dU_dY, name=\"Poisson Equation\")"
      ]
    },
    {
      "cell_type": "markdown",
      "metadata": {},
      "source": [
        "Define the integration domain (mesh)\n\n"
      ]
    },
    {
      "cell_type": "code",
      "execution_count": null,
      "metadata": {
        "collapsed": false
      },
      "outputs": [],
      "source": [
        "mesh = fd.mesh.rectangle_mesh()"
      ]
    },
    {
      "cell_type": "markdown",
      "metadata": {},
      "source": [
        "Assembly the global matrix, define a linear problem,\nadd boundary conditions and solve the problem\n\n"
      ]
    },
    {
      "cell_type": "code",
      "execution_count": null,
      "metadata": {
        "collapsed": false
      },
      "outputs": [],
      "source": [
        "fd.Assembly.create(wf, mesh, name=\"assembly\")\n\npb = fd.problem.Linear(\"assembly\")\npb.bc.add(\"Dirichlet\", \"left\", \"U\", 0)\npb.bc.add(\"Dirichlet\", \"right\", \"U\", 1)\n\npb.solve()\n\nres = pb.get_results(\"assembly\", [\"U\"])\nres.plot(\"U\")"
      ]
    }
  ],
  "metadata": {
    "kernelspec": {
      "display_name": "Python 3",
      "language": "python",
      "name": "python3"
    },
    "language_info": {
      "codemirror_mode": {
        "name": "ipython",
        "version": 3
      },
      "file_extension": ".py",
      "mimetype": "text/x-python",
      "name": "python",
      "nbconvert_exporter": "python",
      "pygments_lexer": "ipython3",
      "version": "3.10.18"
    }
  },
  "nbformat": 4,
  "nbformat_minor": 0
}