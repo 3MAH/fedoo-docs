{
  "cells": [
    {
      "cell_type": "markdown",
      "metadata": {},
      "source": [
        "\n# 3 points bending of an I-Shape beam\n"
      ]
    },
    {
      "cell_type": "code",
      "execution_count": null,
      "metadata": {
        "collapsed": false
      },
      "outputs": [],
      "source": [
        "import fedoo as fd\nimport numpy as np"
      ]
    },
    {
      "cell_type": "markdown",
      "metadata": {},
      "source": [
        "# Geometry and Mesh\nIn this example, a mesh is created with an I-shaped cross-section.\nFirst, an I-shape profil is built using linear triangle elements 'tri3'.\nThe 'extrude' function is then used to create\nthe 3d geometry based on wedge elements 'wed6'.\n\n"
      ]
    },
    {
      "cell_type": "code",
      "execution_count": null,
      "metadata": {
        "collapsed": false
      },
      "outputs": [],
      "source": [
        "# Build a I shaped beam profil\nprofil = fd.mesh.structured_mesh.I_shape_mesh(10, 10, 2, 2, 1, \"tri3\")\nmesh = fd.mesh.extrude(\n    profil,\n    100,  # extrusion length,\n    11,\n)  # n_nodes\nmesh.nodes = mesh.nodes[\n    :, [2, 1, 0]\n]  # switch axis to put the extrusion direction along the X axis\n\n# Uncomment the following line to use quadratic elements\n# mesh = fd.mesh.functions.change_elm_type(mesh, 'wed15') #or 'wed18'\n\nprint(f\"element type: '{mesh.elm_type}'\")"
      ]
    },
    {
      "cell_type": "markdown",
      "metadata": {},
      "source": [
        "# Problem d\u00e9finition\nDefine a 3d linear static problem with a linear elastc constitutive law\n\n"
      ]
    },
    {
      "cell_type": "code",
      "execution_count": null,
      "metadata": {
        "collapsed": false
      },
      "outputs": [],
      "source": [
        "fd.ModelingSpace(\"3D\")\n\n# Material definition\nmaterial = fd.constitutivelaw.ElasticIsotrop(200e3, 0.3)\nwf = fd.weakform.StressEquilibrium(material)\n\n# Assembly\nassembly = fd.Assembly.create(wf, mesh)\n\n# Type of problem\npb = fd.problem.Linear(assembly)"
      ]
    },
    {
      "cell_type": "markdown",
      "metadata": {},
      "source": [
        "# Boundary conditions\nCreate set of nodes to apply boundary conditions\n(ie numpy array of node indices) and apply boundary conditions on the sets:\n  - Ux = Uy = 0 on the left bottom edge\n  - Uy = 0 on the right bottom edge\n  - Uy = -10 on the edge at the center top\n\n"
      ]
    },
    {
      "cell_type": "code",
      "execution_count": null,
      "metadata": {
        "collapsed": false
      },
      "outputs": [],
      "source": [
        "bottom = mesh.find_nodes(\"Y\", mesh.bounding_box.ymin)\ntop = mesh.find_nodes(\"Y\", mesh.bounding_box.ymax)\n\nleft_bottom = np.intersect1d(mesh.find_nodes(\"X\", mesh.bounding_box.xmin), bottom)\nright_bottom = np.intersect1d(mesh.find_nodes(\"X\", mesh.bounding_box.xmax), bottom)\ncenter_top = np.intersect1d(mesh.find_nodes(\"X\", mesh.bounding_box.center[0]), top)\n\npb.bc.add(\"Dirichlet\", left_bottom, \"Disp\", 0)\npb.bc.add(\"Dirichlet\", right_bottom, \"DispY\", 0)\npb.bc.add(\"Dirichlet\", center_top, \"DispY\", -10)"
      ]
    },
    {
      "cell_type": "markdown",
      "metadata": {},
      "source": [
        "# Solve and plot results\nSolve and extract, stress and displacement field\nand plot \\sigma_{xx}\n\n"
      ]
    },
    {
      "cell_type": "code",
      "execution_count": null,
      "metadata": {
        "collapsed": false
      },
      "outputs": [],
      "source": [
        "pb.solve()\n\nres = pb.get_results(assembly, [\"Stress\", \"Disp\"])\nres.plot(\"Stress\", \"XX\", \"Node\", show_edges=False)"
      ]
    }
  ],
  "metadata": {
    "kernelspec": {
      "display_name": "Python 3",
      "language": "python",
      "name": "python3"
    },
    "language_info": {
      "codemirror_mode": {
        "name": "ipython",
        "version": 3
      },
      "file_extension": ".py",
      "mimetype": "text/x-python",
      "name": "python",
      "nbconvert_exporter": "python",
      "pygments_lexer": "ipython3",
      "version": "3.10.18"
    }
  },
  "nbformat": 4,
  "nbformat_minor": 0
}