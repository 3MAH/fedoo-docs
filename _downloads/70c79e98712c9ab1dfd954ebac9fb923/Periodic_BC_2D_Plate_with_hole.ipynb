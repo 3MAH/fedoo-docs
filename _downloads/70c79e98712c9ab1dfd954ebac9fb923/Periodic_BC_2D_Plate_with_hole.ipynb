{
  "cells": [
    {
      "cell_type": "markdown",
      "metadata": {},
      "source": [
        "# 2D periodic boundary condition\n\nPeriodic boundary conditions are enforced on a 2D geometry with plane\nstress assumption (plate with hole). A mean strain tensor is enforced,\nand the resulting mean stress is estimated.\n"
      ]
    },
    {
      "cell_type": "code",
      "execution_count": null,
      "metadata": {
        "collapsed": false
      },
      "outputs": [],
      "source": [
        "import fedoo as fd\nimport numpy as np"
      ]
    },
    {
      "cell_type": "markdown",
      "metadata": {},
      "source": [
        "# Dimension of the problem\n"
      ]
    },
    {
      "cell_type": "code",
      "execution_count": null,
      "metadata": {
        "collapsed": false
      },
      "outputs": [],
      "source": [
        "fd.ModelingSpace(\"2Dstress\")"
      ]
    },
    {
      "cell_type": "markdown",
      "metadata": {},
      "source": [
        "# Definition of the Geometry\n"
      ]
    },
    {
      "cell_type": "code",
      "execution_count": null,
      "metadata": {
        "collapsed": false
      },
      "outputs": [],
      "source": [
        "mesh = fd.mesh.hole_plate_mesh(name=\"Domain\")\n\n# alternative mesh below (uncomment the line)\n# Mesh.rectangle_mesh(Nx=51, Ny=51, x_min=-50, x_max=50, y_min=-50, y_max=50, ElementShape = 'quad4', name =\"Domain\")"
      ]
    },
    {
      "cell_type": "markdown",
      "metadata": {},
      "source": [
        "# Adding virtual nodes related the macroscopic strain\n"
      ]
    },
    {
      "cell_type": "code",
      "execution_count": null,
      "metadata": {
        "collapsed": false
      },
      "outputs": [],
      "source": [
        "strain_nodes = mesh.add_virtual_nodes(2)\n# The position of the virtual node has no importance.\n# For a problem in 2D with a 2D periodicity, we need 3 independant strain component\n# 2 nodes (with 2 dof per node in 2D) are required"
      ]
    },
    {
      "cell_type": "markdown",
      "metadata": {},
      "source": [
        "Now define the problem to solve\n"
      ]
    },
    {
      "cell_type": "code",
      "execution_count": null,
      "metadata": {
        "collapsed": false
      },
      "outputs": [],
      "source": [
        "# ------------------------------------------------------------------------------\n# Material definition\n# ------------------------------------------------------------------------------\nfd.constitutivelaw.ElasticIsotrop(1e5, 0.3, name=\"ElasticLaw\")\n\n# ------------------------------------------------------------------------------\n# Mechanical weak formulation\n# ------------------------------------------------------------------------------\nwf = fd.weakform.StressEquilibrium(\"ElasticLaw\")\n\n# ------------------------------------------------------------------------------\n# Global Matrix assembly\n# ------------------------------------------------------------------------------\nfd.Assembly.create(wf, mesh, name=\"Assembly\")\n\n# ------------------------------------------------------------------------------\n# Static problem based on the just defined assembly\n# ------------------------------------------------------------------------------\npb = fd.problem.Linear(\"Assembly\")"
      ]
    },
    {
      "cell_type": "markdown",
      "metadata": {},
      "source": [
        "# Add periodic constraint\n\nAdd a periodic conditions (ie a multipoint constraint) linked to the strain dof based on virtual nodes:\n\n:   - the dof \\'DispX\\' of the node strain_nodes\\[0\\] will be arbitrary\n      associated to the EXX strain component\n    - the dof \\'DispY\\' of the node strain_nodes\\[1\\] will be arbitrary\n      associated to the EYY strain component\n    - the dof \\'DispY\\' of the node strain_nodes\\[0\\] will be arbitrary\n      associated to the EXY strain component\n    - the dof \\'DispX\\' of the node strain_nodes\\[1\\] is not used and\n      will be blocked to avoid singularity\n"
      ]
    },
    {
      "cell_type": "code",
      "execution_count": null,
      "metadata": {
        "collapsed": false
      },
      "outputs": [],
      "source": [
        "pb.bc.add(\n    fd.constraint.PeriodicBC(\n        [strain_nodes[0], strain_nodes[1], strain_nodes[0]], [\"DispX\", \"DispY\", \"DispY\"]\n    )\n)"
      ]
    },
    {
      "cell_type": "markdown",
      "metadata": {},
      "source": [
        "Add standard boundary conditions\n"
      ]
    },
    {
      "cell_type": "code",
      "execution_count": null,
      "metadata": {
        "collapsed": false
      },
      "outputs": [],
      "source": [
        "# ------------------------------------------------------------------------------\n# Macroscopic strain components to enforce\nExx = 0\nEyy = 0\nExy = 0.1\n\n# Mean strain: Dirichlet (strain) or Neumann (associated mean stress) can be enforced\npb.bc.add(\"Dirichlet\", [strain_nodes[0]], \"DispX\", Exx)  # EpsXX\npb.bc.add(\"Dirichlet\", [strain_nodes[0]], \"DispY\", Exy)  # EpsXY\n\npb.bc.add(\n    \"Dirichlet\", [strain_nodes[1]], \"DispX\", 0\n)  # nothing (blocked to avoir singularity)\npb.bc.add(\"Dirichlet\", [strain_nodes[1]], \"DispY\", Eyy)  # EpsYY\n\n# Block one node to avoid singularity\ncenter = mesh.nearest_node(mesh.bounding_box.center)\npb.bc.add(\"Dirichlet\", center, \"Disp\", 0)"
      ]
    },
    {
      "cell_type": "markdown",
      "metadata": {},
      "source": [
        "Solve and plot stress field\n"
      ]
    },
    {
      "cell_type": "code",
      "execution_count": null,
      "metadata": {
        "collapsed": false
      },
      "outputs": [],
      "source": [
        "pb.solve()\n\n# ------------------------------------------------------------------------------\n# Post-treatment\n# ------------------------------------------------------------------------------\nres = pb.get_results(\"Assembly\", [\"Disp\", \"Stress\"])\n\n# plot the deformed mesh with the shear stress (component=3).\nres.plot(\"Stress\", \"XY\", \"Node\")\n# simple matplotlib alternative if pyvista is not installed:\n# fd.util.field_plot_2d(\"Assembly\", disp = pb.get_dof_solution(), dataname = 'Stress', component=3, scale_factor = 1, plot_edge = True, nb_level = 6, type_plot = \"smooth\")"
      ]
    },
    {
      "cell_type": "markdown",
      "metadata": {},
      "source": [
        "print the macroscopic strain tensor and stress tensor\n"
      ]
    },
    {
      "cell_type": "code",
      "execution_count": null,
      "metadata": {
        "collapsed": false
      },
      "outputs": [],
      "source": [
        "print(\n    \"Strain tensor ([Exx, Eyy, Exy]): \",\n    [pb.get_disp(\"DispX\")[-2], pb.get_disp(\"DispY\")[-1], pb.get_disp(\"DispY\")[-2]],\n)\n\n# Compute the mean stress tensor\nsurf = mesh.bounding_box.volume  # total surface of the domain = volume in 2d\nmean_stress = [1 / surf * mesh.integrate_field(res[\"Stress\"][i]) for i in [0, 1, 3]]\n\nprint(\"Stress tensor ([Sxx, Syy, Sxy]): \", mean_stress)"
      ]
    }
  ],
  "metadata": {
    "kernelspec": {
      "display_name": "Python 3",
      "language": "python",
      "name": "python3"
    },
    "language_info": {
      "codemirror_mode": {
        "name": "ipython",
        "version": 3
      },
      "file_extension": ".py",
      "mimetype": "text/x-python",
      "name": "python",
      "nbconvert_exporter": "python",
      "pygments_lexer": "ipython3",
      "version": "3.10.18"
    }
  },
  "nbformat": 4,
  "nbformat_minor": 0
}