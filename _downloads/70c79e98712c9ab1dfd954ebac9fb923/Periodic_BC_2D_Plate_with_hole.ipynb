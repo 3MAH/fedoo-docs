{
  "cells": [
    {
      "cell_type": "markdown",
      "metadata": {},
      "source": [
        "# 2D periodic boundary condition\n\nPeriodic boundary conditions are enforced on a 2D geometry with plane\nstress assumption (plate with hole). A mean strain tensor is enforced,\nand the resulting mean stress is estimated.\n"
      ]
    },
    {
      "cell_type": "code",
      "execution_count": null,
      "metadata": {
        "collapsed": false
      },
      "outputs": [],
      "source": [
        "import fedoo as fd\nimport numpy as np"
      ]
    },
    {
      "cell_type": "markdown",
      "metadata": {},
      "source": [
        "# Dimension of the problem\n"
      ]
    },
    {
      "cell_type": "code",
      "execution_count": null,
      "metadata": {
        "collapsed": false
      },
      "outputs": [],
      "source": [
        "fd.ModelingSpace(\"2Dstress\")"
      ]
    },
    {
      "cell_type": "markdown",
      "metadata": {},
      "source": [
        "# Definition of the Geometry\n"
      ]
    },
    {
      "cell_type": "code",
      "execution_count": null,
      "metadata": {
        "collapsed": false
      },
      "outputs": [],
      "source": [
        "mesh = fd.mesh.hole_plate_mesh()\n\n# alternative mesh below (uncomment the line)\n# mesh = fd.mesh.rectangle_mesh(nx=51, ny=51)"
      ]
    },
    {
      "cell_type": "markdown",
      "metadata": {},
      "source": [
        "# Now define the problem to solve\n"
      ]
    },
    {
      "cell_type": "code",
      "execution_count": null,
      "metadata": {
        "collapsed": false
      },
      "outputs": [],
      "source": [
        "# ------------------------------------------------------------------------------\n# Material definition\n# ------------------------------------------------------------------------------\nfd.constitutivelaw.ElasticIsotrop(1e5, 0.3, name=\"ElasticLaw\")\n\n# ------------------------------------------------------------------------------\n# Mechanical weak formulation\n# ------------------------------------------------------------------------------\nwf = fd.weakform.StressEquilibrium(\"ElasticLaw\")\n\n# ------------------------------------------------------------------------------\n# Global Matrix assembly\n# ------------------------------------------------------------------------------\nfd.Assembly.create(wf, mesh, name=\"Assembly\")\n\n# ------------------------------------------------------------------------------\n# Static problem based on the just defined assembly\n# ------------------------------------------------------------------------------\npb = fd.problem.Linear(\"Assembly\")"
      ]
    },
    {
      "cell_type": "markdown",
      "metadata": {},
      "source": [
        "# Add periodic constraint\n\nAdd a periodic conditions (ie a multipoint constraint) Some global dof\nare automatically added to the problem: - \\'E_xx\\', \\'E_yy\\', \\'E_xy\\'\nthat refere to the mean strain components - The global vector\n\\'MeanStrain\\' is also added\n"
      ]
    },
    {
      "cell_type": "code",
      "execution_count": null,
      "metadata": {
        "collapsed": false
      },
      "outputs": [],
      "source": [
        "pb.bc.add(fd.constraint.PeriodicBC(periodicity_type=\"small_strain\"))"
      ]
    },
    {
      "cell_type": "markdown",
      "metadata": {},
      "source": [
        "# Add standard boundary conditions\n"
      ]
    },
    {
      "cell_type": "code",
      "execution_count": null,
      "metadata": {
        "collapsed": false
      },
      "outputs": [],
      "source": [
        "# ------------------------------------------------------------------------------\n# Macroscopic strain components to enforce\nExx = 0\nEyy = 0\nExy = 0.1\n\n# Mean strain: Dirichlet (strain) or Neumann (associated mean stress) can be enforced\npb.bc.add(\"Dirichlet\", \"E_xx\", Exx)  # EpsXX\npb.bc.add(\"Dirichlet\", \"E_xy\", Exy)  # EpsXY\npb.bc.add(\"Dirichlet\", \"E_yy\", Eyy)  # EpsYY\n\n# Block one node to avoid singularity\ncenter = mesh.nearest_node(mesh.bounding_box.center)\npb.bc.add(\"Dirichlet\", center, \"Disp\", 0)"
      ]
    },
    {
      "cell_type": "markdown",
      "metadata": {},
      "source": [
        "Solve and plot stress field\n"
      ]
    },
    {
      "cell_type": "code",
      "execution_count": null,
      "metadata": {
        "collapsed": false
      },
      "outputs": [],
      "source": [
        "pb.solve()\n\n# ------------------------------------------------------------------------------\n# Post-treatment\n# ------------------------------------------------------------------------------\nres = pb.get_results(\"Assembly\", [\"Disp\", \"Stress\", \"MeanStrain\"])\n\n# plot the deformed mesh with the shear stress (component=3).\nres.plot(\"Stress\", \"XY\", \"Node\")"
      ]
    },
    {
      "cell_type": "markdown",
      "metadata": {},
      "source": [
        "print the macroscopic strain tensor and stress tensor\n"
      ]
    },
    {
      "cell_type": "code",
      "execution_count": null,
      "metadata": {
        "collapsed": false
      },
      "outputs": [],
      "source": [
        "print(\n    \"Strain tensor ([Exx, Eyy, Exy]): \",\n    [pb.get_dof_solution(component)[0] for component in [\"E_xx\", \"E_yy\", \"E_xy\"]],\n)\n\n# Compute the mean stress tensor\nsurf = mesh.bounding_box.volume  # total surface of the domain = volume in 2d\nmean_stress = [1 / surf * mesh.integrate_field(res[\"Stress\"][i]) for i in [0, 1, 3]]\n\nprint(\"Stress tensor ([Sxx, Syy, Sxy]): \", mean_stress)"
      ]
    }
  ],
  "metadata": {
    "kernelspec": {
      "display_name": "Python 3",
      "language": "python",
      "name": "python3"
    },
    "language_info": {
      "codemirror_mode": {
        "name": "ipython",
        "version": 3
      },
      "file_extension": ".py",
      "mimetype": "text/x-python",
      "name": "python",
      "nbconvert_exporter": "python",
      "pygments_lexer": "ipython3",
      "version": "3.10.18"
    }
  },
  "nbformat": 4,
  "nbformat_minor": 0
}