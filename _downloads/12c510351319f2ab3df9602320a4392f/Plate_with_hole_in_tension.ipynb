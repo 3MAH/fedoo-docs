{
  "cells": [
    {
      "cell_type": "markdown",
      "metadata": {},
      "source": [
        "\n# 2D plate with hole in tension\n\nSimple example of a plate with hole in tension with 2D plane stress assumption.\n"
      ]
    },
    {
      "cell_type": "code",
      "execution_count": null,
      "metadata": {
        "collapsed": false
      },
      "outputs": [],
      "source": [
        "import fedoo as fd\nimport pyvista as pv\n\n# Define 2d modeling space using plane stress assumption\nfd.ModelingSpace(\"2Dstress\")\n\n# Generate a simple structured mesh \"Domain\" (plate with a hole).\nmesh = fd.mesh.hole_plate_mesh(\n    nr=11,\n    nt=11,\n    length=100,\n    height=100,\n    radius=20,\n    elm_type=\"quad4\",\n    sym=False,\n    name=\"Domain\",\n)\n\n# or read from a mesh that is initialy in 3D (3 coordinates) and remove the 3rd coordinates\n# mesh = fd.mesh.import_file('plate_with_hole.msh').as_2d()\n\n# Define an elastic isotropic material with E = 2e5MPa et nu = 0.3 (steel)\nmaterial = fd.constitutivelaw.ElasticIsotrop(2e5, 0.3, name=\"ElasticLaw\")\n\n# Create the weak formulation of the mechanical equilibrium equation\nfd.weakform.StressEquilibrium(\"ElasticLaw\", name=\"WeakForm\")\n\n# Create a global assembly\nfd.Assembly.create(\"WeakForm\", mesh, name=\"Assembly\")\n\n# Define a new static problem\npb = fd.problem.Linear(\"Assembly\")\n\n# Definition of the set of nodes for boundary conditions\nleft = mesh.find_nodes(\"X\", mesh.bounding_box.xmin)\nright = mesh.find_nodes(\"X\", mesh.bounding_box.xmax)\n\n# displacement on left (ux=-0.1mm)\npb.bc.add(\"Dirichlet\", \"left\", \"DispX\", -5e-1)\n# displacement on right (ux=0.1mm)\npb.bc.add(\"Dirichlet\", \"right\", \"DispX\", 5e-1)\n# y displacement set in one node to avoid rigid body motion\npb.bc.add(\"Dirichlet\", [0], \"DispY\", 0)\n\n# Solve problem\npb.set_solver(\"CG\")\npb.solve()\n\n# extract the results from the Assembly object\nresults = pb.get_results(\"Assembly\", [\"Stress\", \"Disp\", \"Strain\"])"
      ]
    },
    {
      "cell_type": "markdown",
      "metadata": {},
      "source": [
        "Plot results:\nThe pyvista subplot capability is used to plot in the same figure:\n  - The Von-Mises stress\n  - The XX, YY, XY component of stress tensor\n\n"
      ]
    },
    {
      "cell_type": "code",
      "execution_count": null,
      "metadata": {
        "collapsed": false
      },
      "outputs": [],
      "source": [
        "pl = pv.Plotter(shape=(2, 2))\n\n### to use the background plotter, uncomment the following lines ###\n# from pyvistaqt import BackgroundPlotter\n# pl = BackgroundPlotter(shape = (2,2))\n\nresults.plot(\"Stress\", \"vm\", \"Node\", plotter=pl)\npl.subplot(1, 0)\nresults.plot(\"Stress\", \"XX\", \"Node\", plotter=pl)\npl.subplot(0, 1)\nresults.plot(\"Stress\", \"YY\", \"Node\", plotter=pl)\npl.subplot(1, 1)\nresults.plot(\"Stress\", \"XY\", \"Node\", plotter=pl)\npl.show()"
      ]
    }
  ],
  "metadata": {
    "kernelspec": {
      "display_name": "Python 3",
      "language": "python",
      "name": "python3"
    },
    "language_info": {
      "codemirror_mode": {
        "name": "ipython",
        "version": 3
      },
      "file_extension": ".py",
      "mimetype": "text/x-python",
      "name": "python",
      "nbconvert_exporter": "python",
      "pygments_lexer": "ipython3",
      "version": "3.10.18"
    }
  },
  "nbformat": 4,
  "nbformat_minor": 0
}