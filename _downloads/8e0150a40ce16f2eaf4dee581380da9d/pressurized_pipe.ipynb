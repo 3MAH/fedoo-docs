{
  "cells": [
    {
      "cell_type": "markdown",
      "metadata": {},
      "source": [
        "\n# Pressure constraint\n\nThis example illustrate the use the pressure constraint for the simulation of\na pipe under internal pressure and external pressure. The problem is treated\nin 2D with plane strain assumption.\n"
      ]
    },
    {
      "cell_type": "code",
      "execution_count": null,
      "metadata": {
        "collapsed": false
      },
      "outputs": [],
      "source": [
        "import fedoo as fd\n\n# Pressure in MPa\nexternal_pressure = 0.1\ninternal_pressure = 2\nradius = 200\nthickness = 20\n\nfd.ModelingSpace('2D')  # plane strain assumption\nmesh = fd.mesh.hollow_disk_mesh(radius, thickness, nr=5, nt=41)\n\nmaterial = fd.constitutivelaw.ElasticIsotrop(200e3, 0.3)\n\nwf = fd.weakform.StressEquilibrium(material)\nsolid_assembly = fd.Assembly.create(wf, mesh)"
      ]
    },
    {
      "cell_type": "markdown",
      "metadata": {},
      "source": [
        "To find the nodes belonging to the boundary of the pipe, the\n:py:meth:`fedoo.Mesh.find_nodes` method is used with the \"Distance\" criterion\nfrom the center of pipe whose coordinates is [0, 0].\n\n"
      ]
    },
    {
      "cell_type": "code",
      "execution_count": null,
      "metadata": {
        "collapsed": false
      },
      "outputs": [],
      "source": [
        "ext_nodes = mesh.find_nodes(\"Distance\", ([0, 0], radius))\nint_nodes = mesh.find_nodes(\"Distance\", ([0, 0], radius - thickness))"
      ]
    },
    {
      "cell_type": "markdown",
      "metadata": {},
      "source": [
        "The pressure requires to build a weaform over a surface Mesh. To\nautomatically build the required surface mesh from a set of nodes, with use\nthe :py:meth:`fedoo.contraint.Pressure.from_nodes` constructor.\n\nAlternatively, we can use the\n:py:meth:`fedoo.contraint.Pressure.from_elements` constructor from a set of\nelement to extract the external surface.\n\n..warnings::\n  The from_nodes and from_elements constructor can't be used to apply a\n  pressure over a shell structure because, as the shell mesh is a surface\n  mesh, these constructors will extract linear mesh of the boundaries.\n  To apply the mesh over a shell geometry, the\n  :py:class:`fedoo.contraint.Pressure` constructor needs to be called.\n  See the example\n  `sphx_glr_examples_01_simple_spherical_shell_compression.py`\n\n"
      ]
    },
    {
      "cell_type": "code",
      "execution_count": null,
      "metadata": {
        "collapsed": false
      },
      "outputs": [],
      "source": [
        "ext_pressure = fd.constraint.Pressure.from_nodes(\n    mesh, ext_nodes, external_pressure\n)\nint_pressure = fd.constraint.Pressure.from_nodes(\n    mesh, int_nodes, internal_pressure\n)"
      ]
    },
    {
      "cell_type": "markdown",
      "metadata": {},
      "source": [
        "Define a problem from the solid and pressure assemblies\nThe 3 assemblies are sumed.\n\n"
      ]
    },
    {
      "cell_type": "code",
      "execution_count": null,
      "metadata": {
        "collapsed": false
      },
      "outputs": [],
      "source": [
        "pb = fd.problem.Linear(solid_assembly + ext_pressure + int_pressure)\npb.solve()\n\npb.get_results(solid_assembly, \"Stress\").plot(\"Stress\", \"pressure\", \"Node\")"
      ]
    }
  ],
  "metadata": {
    "kernelspec": {
      "display_name": "Python 3",
      "language": "python",
      "name": "python3"
    },
    "language_info": {
      "codemirror_mode": {
        "name": "ipython",
        "version": 3
      },
      "file_extension": ".py",
      "mimetype": "text/x-python",
      "name": "python",
      "nbconvert_exporter": "python",
      "pygments_lexer": "ipython3",
      "version": "3.10.18"
    }
  },
  "nbformat": 4,
  "nbformat_minor": 0
}