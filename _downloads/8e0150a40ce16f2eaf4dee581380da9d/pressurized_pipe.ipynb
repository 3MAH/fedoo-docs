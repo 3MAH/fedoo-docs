{
  "cells": [
    {
      "cell_type": "markdown",
      "metadata": {},
      "source": [
        "# Pressure constraint\n\nThis example illustrate the use the pressure constraint for the\nsimulation of a pipe under internal pressure and external pressure. The\nproblem is treated in 2D with plane strain assumption.\n"
      ]
    },
    {
      "cell_type": "code",
      "execution_count": null,
      "metadata": {
        "collapsed": false
      },
      "outputs": [],
      "source": [
        "import fedoo as fd\n\n# Pressure in MPa\nexternal_pressure = 0.1\ninternal_pressure = 2\nradius = 200\nthickness = 20\n\nfd.ModelingSpace(\"2D\")  # plane strain assumption\nmesh = fd.mesh.hollow_disk_mesh(radius, thickness, nr=5, nt=41)\n\nmaterial = fd.constitutivelaw.ElasticIsotrop(200e3, 0.3)\n\nwf = fd.weakform.StressEquilibrium(material)\nsolid_assembly = fd.Assembly.create(wf, mesh)"
      ]
    },
    {
      "cell_type": "markdown",
      "metadata": {},
      "source": [
        "To find the nodes belonging to the boundary of the pipe, the\n`fedoo.Mesh.find_nodes`{.interpreted-text role=\"py:meth\"} method is used\nwith the \\\"Distance\\\" criterion from the center of pipe whose\ncoordinates is \\[0, 0\\].\n"
      ]
    },
    {
      "cell_type": "code",
      "execution_count": null,
      "metadata": {
        "collapsed": false
      },
      "outputs": [],
      "source": [
        "ext_nodes = mesh.find_nodes(\"Distance\", ([0, 0], radius))\nint_nodes = mesh.find_nodes(\"Distance\", ([0, 0], radius - thickness))"
      ]
    },
    {
      "cell_type": "markdown",
      "metadata": {},
      "source": [
        "The pressure requires to build a weaform over a surface Mesh. To\nautomatically build the required surface mesh from a set of nodes, with\nuse the `fedoo.contraint.Pressure.from_nodes`{.interpreted-text\nrole=\"py:meth\"} constructor.\n\nAlternatively, we can use the\n`fedoo.contraint.Pressure.from_elements`{.interpreted-text\nrole=\"py:meth\"} constructor from a set of element to extract the\nexternal surface.\n\n:::: note\n::: title\nNote\n:::\n\nThe from_nodes and from_elements constructor can\\'t be used to apply a\npressure over a shell structure because, as the shell mesh is a surface\nmesh, these constructors will extract linear mesh of the boundaries. To\napply the mesh over a shell geometry, the\n`fedoo.contraint.Pressure`{.interpreted-text role=\"py:class\"}\nconstructor needs to be called. See the example\n`sphx_glr_examples_01_simple_spherical_shell_compression.py`{.interpreted-text\nrole=\"ref\"}\n::::\n"
      ]
    },
    {
      "cell_type": "code",
      "execution_count": null,
      "metadata": {
        "collapsed": false
      },
      "outputs": [],
      "source": [
        "ext_pressure = fd.constraint.Pressure.from_nodes(mesh, ext_nodes, external_pressure)\nint_pressure = fd.constraint.Pressure.from_nodes(mesh, int_nodes, internal_pressure)"
      ]
    },
    {
      "cell_type": "markdown",
      "metadata": {},
      "source": [
        "Define a problem from the solid and pressure assemblies The 3 assemblies\nare sumed.\n"
      ]
    },
    {
      "cell_type": "code",
      "execution_count": null,
      "metadata": {
        "collapsed": false
      },
      "outputs": [],
      "source": [
        "pb = fd.problem.Linear(solid_assembly + ext_pressure + int_pressure)\npb.solve()\n\npb.get_results(solid_assembly, \"Stress\").plot(\"Stress\", \"pressure\", \"Node\")"
      ]
    }
  ],
  "metadata": {
    "kernelspec": {
      "display_name": "Python 3",
      "language": "python",
      "name": "python3"
    },
    "language_info": {
      "codemirror_mode": {
        "name": "ipython",
        "version": 3
      },
      "file_extension": ".py",
      "mimetype": "text/x-python",
      "name": "python",
      "nbconvert_exporter": "python",
      "pygments_lexer": "ipython3",
      "version": "3.10.18"
    }
  },
  "nbformat": 4,
  "nbformat_minor": 0
}