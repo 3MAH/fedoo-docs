{
  "cells": [
    {
      "cell_type": "markdown",
      "metadata": {},
      "source": [
        "\n# Contact bewteen a disk and a rectangle\n"
      ]
    },
    {
      "cell_type": "code",
      "execution_count": null,
      "metadata": {
        "collapsed": false
      },
      "outputs": [],
      "source": [
        "import fedoo as fd\nimport numpy as np\n\n\nfd.ModelingSpace(\"2D\")\n\nNLGEOM = \"UL\"  # updated lagrangian\n\n# parameters\nh = 1\nL = 1\nE = 200e3\nnu = 0.3\nalpha = 1e-5\n\n# mesh of the rectangle\nmesh_rect = fd.mesh.rectangle_mesh(\n    nx=11, ny=21, x_min=0, x_max=L, y_min=0, y_max=h, elm_type=\"quad4\", name=\"Domain\"\n)\nmesh_rect.element_sets[\"rect\"] = np.arange(0, mesh_rect.n_elements)\n\n# mesh of a disk\nmesh_disk = fd.mesh.disk_mesh(radius=L / 2, nr=6, nt=6, elm_type=\"quad4\")\nmesh_disk.nodes += np.array([1.5, 0.48])  # translate the disk\nmesh_disk.element_sets[\"disk\"] = np.arange(0, mesh_disk.n_elements)\n\n# put the two meshes in a sigle meshes (change the element indices)\nmesh = fd.Mesh.stack(mesh_rect, mesh_disk)\n\n# node sets for boundary conditions\nnodes_left = mesh.find_nodes(\"X\", 0)\nnodes_right = mesh.find_nodes(\"X\", L)\n\nnodes_bc = mesh.find_nodes(\"X>1.5\")\nnodes_bc = list(set(nodes_bc).intersection(mesh.node_sets[\"boundary\"]))\n\n# if slave surface == disk\n# nodes_contact = mesh.node_sets['boundary']\n# surf = fd.mesh.extract_surface(mesh.extract_elements('rect')) #extract the surface of the rectangle\n# surf = surf.extract_elements(surf.get_elements_from_nodes(nodes_right))\n\n# if slave surface == rectangle\nnodes_contact = nodes_right\nsurf = fd.mesh.extract_surface(\n    mesh.extract_elements(\"disk\")\n)  # extract the surface of the disk\n\n# define contact assembly\ncontact = fd.constraint.Contact(nodes_contact, surf)\n\n# change contact parameters\ncontact.contact_search_once = True  # search contact only once per time increment\ncontact.eps_n = 5e5  # contact rigidity\ncontact.max_dist = 1  # ignore contact if dist > 1\n\n# define material for rectangle (elasto-plastic law)\nRe = 300\nk = 1000  # 1500\nm = 0.3  # 0.25\nprops = np.array([E, nu, alpha, Re, k, m])\nmaterial_rect = fd.constitutivelaw.Simcoon(\"EPICP\", props, name=\"ConstitutiveLaw\")\n\n# define material for disk (elastic isotropic)\nmaterial_disk = fd.constitutivelaw.ElasticIsotrop(50e3, nu, name=\"ConstitutiveLaw\")\n\n# define an heterogeneous constitutive law\nmaterial = fd.constitutivelaw.Heterogeneous(\n    (material_rect, material_disk), (\"rect\", \"disk\")\n)\n\n# stress equilibrium weak form and related assembly\nwf = fd.weakform.StressEquilibrium(material, nlgeom=NLGEOM)\nsolid_assembly = fd.Assembly.create(wf, mesh)\n\n# add contact to the global assembly\nassembly = fd.Assembly.sum(solid_assembly, contact)\n\n# definie non linear analysis\npb = fd.problem.NonLinear(assembly)\n\n# add some output that are automatically saved\nresults = pb.add_output(\n    \"contact_example\", solid_assembly, [\"Disp\", \"Stress\", \"Strain\", \"Statev\", \"Fext\"]\n)\n\n# boundary conditions\npb.bc.add(\"Dirichlet\", nodes_left, \"Disp\", 0)\npb.bc.add(\"Dirichlet\", nodes_bc, \"Disp\", [-0.05, 0.025])\n\n# set newton-raphson convergence criterion\npb.set_nr_criterion(\"Displacement\", err0=None, tol=5e-3, max_subiter=5)\n\n# solve load step\npb.nlsolve(dt=0.05, tmax=1, update_dt=True, print_info=1, interval_output=0.1)\nn_iter_load = results.n_iter\n\n# change boundary condition (unload)\npb.bc.remove(-1)  # remove last boundary contidion\npb.bc.add(\"Dirichlet\", nodes_bc, \"Disp\", [0, 0])\n\n# solve unload step\npb.nlsolve(dt=0.05, tmax=1, update_dt=True, print_info=1, interval_output=0.1)\n\n# =============================================================\n# Example of plots with pyvista - uncomment the desired plot\n# =============================================================\n\n# ------------------------------------\n# Simple plot with default options\n# ------------------------------------\nresults.load(n_iter_load - 1)  # load state at the end of load\nresults.plot(\"Stress\", \"vm\", \"Node\", show=True, scale=1, show_nodes=True)\n\nresults.load(-1)  # load state at the end of load\nresults.plot(\"Stress\", \"XX\", \"Node\", show=True, scale=1, show_nodes=True)\n# results.plot('Fext',  'X', 'Node', show = True, scale = 1, show_nodes=True)\n\n# results.plot('Disp', 0, 'Node', show = True, scale = 1, show_nodes=True)\n\n# ------------------------------------\n# Write movie with default options\n# ------------------------------------\n# results.write_movie(res_dir+filename, 'Stress', 'vm', framerate = 5, quality = 5)\n# results.write_movie(res_dir+filename, 'Stress', 'XX', 'Node', framerate = 24, quality = 5, clim = [-3e3, 3e3])\n\n# ------------------------------------\n# Save pdf plot\n# ------------------------------------\n# pl = results.plot('Stress', 'vm', show = False)\n# pl.save_graphic('test.pdf', title='PyVista Export', raster=True, painter=True)\n\n# ------------------------------------\n# Plot time history\n# ------------------------------------\n# from matplotlib import pylab\n# t, sigma = results.get_history(('Time','Stress'), (0,12), component = 3)\n# pylab.plot(t,sigma)\n# #or results.plot_history('Stress', 12)"
      ]
    }
  ],
  "metadata": {
    "kernelspec": {
      "display_name": "Python 3",
      "language": "python",
      "name": "python3"
    },
    "language_info": {
      "codemirror_mode": {
        "name": "ipython",
        "version": 3
      },
      "file_extension": ".py",
      "mimetype": "text/x-python",
      "name": "python",
      "nbconvert_exporter": "python",
      "pygments_lexer": "ipython3",
      "version": "3.10.18"
    }
  },
  "nbformat": 4,
  "nbformat_minor": 0
}